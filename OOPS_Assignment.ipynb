{
  "nbformat": 4,
  "nbformat_minor": 0,
  "metadata": {
    "colab": {
      "provenance": []
    },
    "kernelspec": {
      "name": "python3",
      "display_name": "Python 3"
    },
    "language_info": {
      "name": "python"
    }
  },
  "cells": [
    {
      "cell_type": "markdown",
      "source": [
        "1. What are the five key concepts of Object-Oriented Programming (OOP)?\n",
        "\n",
        "Solution: Object-Oriented Programming (OOP) in Python is based on five key concepts are as follows:\n",
        "1. Class\\\n",
        " A blueprint for creating objects.\\\n",
        " Object\\\n",
        "  An instance of a class that contains data attributes and behavior methods.\n",
        "\n"
      ],
      "metadata": {
        "id": "wYE3wwuYfgaF"
      }
    },
    {
      "cell_type": "code",
      "source": [
        "#Ex of class\n",
        "class Car:\n",
        "    def __init__(self, brand, model):\n",
        "        self.brand = brand\n",
        "        self.model = model\n",
        "#Ex of object\n",
        "car1 = Car(\"Toyota\", \"Camry\")  # `car1` is an object of the `Car` class.\n",
        "\n"
      ],
      "metadata": {
        "id": "eZblWI1jgdc6"
      },
      "execution_count": null,
      "outputs": []
    },
    {
      "cell_type": "markdown",
      "source": [
        "2. Encapsulation\\\n",
        "Restricting access to some components of an object to maintain control over its data.\\\n",
        "Implementation in Python:\n",
        "Use underscores _ or __ to indicate private attributes.\n",
        "\n"
      ],
      "metadata": {
        "id": "QWNbAmK_hWbR"
      }
    },
    {
      "cell_type": "code",
      "source": [
        "#Ex\n",
        "class BankAccount:\n",
        "    def __init__(self, balance):\n",
        "        self.__balance = balance  # Private attribute\n",
        "\n",
        "    def deposit(self, amount):\n",
        "        self.__balance += amount\n",
        "\n",
        "    def get_balance(self):\n",
        "        return self.__balance\n"
      ],
      "metadata": {
        "id": "f1YTEUOthK3U"
      },
      "execution_count": null,
      "outputs": []
    },
    {
      "cell_type": "markdown",
      "source": [
        "3. Inheritance\\\n",
        "A mechanism for one class to derive properties and behavior from another class.\n"
      ],
      "metadata": {
        "id": "YEHN2OOuh74k"
      }
    },
    {
      "cell_type": "code",
      "source": [
        "#Ex\n",
        "class Animal:\n",
        "    def speak(self):\n",
        "        return \"I make a sound\"\n",
        "\n",
        "class Dog(Animal):  # Dog inherits from Animal\n",
        "    def speak(self):\n",
        "        return \"Woof\"\n"
      ],
      "metadata": {
        "id": "LKd5R6QHiAsj"
      },
      "execution_count": null,
      "outputs": []
    },
    {
      "cell_type": "markdown",
      "source": [
        "4.Polymorphism\\\n",
        "The ability to use a common interface for different forms (e.g., methods with the same name behaving differently)."
      ],
      "metadata": {
        "id": "x2R5SU5LiM6u"
      }
    },
    {
      "cell_type": "code",
      "source": [
        "#Ex\n",
        "class Cat:\n",
        "    def speak(self):\n",
        "        return \"Meow\"\n",
        "\n",
        "class Bird:\n",
        "    def speak(self):\n",
        "        return \"Chirp\"\n",
        "\n",
        "def make_animal_speak(animal):\n",
        "    print(animal.speak())\n",
        "\n",
        "make_animal_speak(Cat())\n",
        "make_animal_speak(Bird())\n"
      ],
      "metadata": {
        "colab": {
          "base_uri": "https://localhost:8080/"
        },
        "id": "Vuj3uDRNiSkE",
        "outputId": "e5abb0ba-9b2f-404e-c9a6-fc5ee6bd98aa"
      },
      "execution_count": null,
      "outputs": [
        {
          "output_type": "stream",
          "name": "stdout",
          "text": [
            "Meow\n",
            "Chirp\n"
          ]
        }
      ]
    },
    {
      "cell_type": "markdown",
      "source": [
        "5. Abstraction\\\n",
        "Hiding implementation details while exposing essential functionality.\\\n",
        "Implementation in Python: Use abstract base classes and the abc module."
      ],
      "metadata": {
        "id": "niW6AsWcii2Z"
      }
    },
    {
      "cell_type": "code",
      "source": [
        "#Ex\n",
        "from abc import ABC, abstractmethod\n",
        "\n",
        "class Shape(ABC):\n",
        "    @abstractmethod\n",
        "    def area(self):\n",
        "        pass\n",
        "\n",
        "class Rectangle(Shape):\n",
        "    def __init__(self, width, height):\n",
        "        self.width = width\n",
        "        self.height = height\n",
        "\n",
        "    def area(self):\n",
        "        return self.width * self.height"
      ],
      "metadata": {
        "id": "IaLYBD0ciXta"
      },
      "execution_count": null,
      "outputs": []
    },
    {
      "cell_type": "markdown",
      "source": [
        "2.  Write a Python class for a `Car` with attributes for `make`, `model`, and `year`. Include a method to display\n",
        "the car's information.\\\n",
        "Solution:"
      ],
      "metadata": {
        "id": "krR6gzsMi0nC"
      }
    },
    {
      "cell_type": "code",
      "source": [
        "class Car:\n",
        "    def __init__(self, make, model, year):\n",
        "        self.make = make\n",
        "        self.model = model\n",
        "        self.year = year\n",
        "\n",
        "    def display_info(self): #Method\n",
        "        return f\"Car Information: {self.year} {self.make} {self.model}\"\n",
        "\n",
        "# Example\n",
        "car1 = Car(\"Toyota\", \"Camry\", 2023)\n",
        "car2 = Car(\"Ford\", \"Mustang\", 1968)\n",
        "\n",
        "print(car1.display_info())\n",
        "print(car2.display_info())\n"
      ],
      "metadata": {
        "colab": {
          "base_uri": "https://localhost:8080/"
        },
        "id": "m5UTpPfyiuJ7",
        "outputId": "c0550b71-f8c4-4b7a-9692-bad817f86f52"
      },
      "execution_count": null,
      "outputs": [
        {
          "output_type": "stream",
          "name": "stdout",
          "text": [
            "Car Information: 2023 Toyota Camry\n",
            "Car Information: 1968 Ford Mustang\n"
          ]
        }
      ]
    },
    {
      "cell_type": "markdown",
      "source": [
        "3. Explain the difference between instance methods and class methods. Provide an example of each.\n",
        "\n",
        "Solution:-\n",
        "        comparison of instance methods and class methods in Python presented in tabular format, along with examples:\\\n",
        "        1. Definition\\\n",
        "        Instance Methods(IM)-Methods that operate on an instance of the class.\\\n",
        "        Class Methods(CM)-Methods that operate on the class itself, not instances.\\\n",
        "        2. Access\\\n",
        "        IM-Can access instance attributes and other instance methods.\\\n",
        "        CM-Can access class-level attributes and methods.\\\n",
        "        3. Decorator\\\n",
        "        IM-No specific decorator is required.\\\n",
        "        CM-Defined using the @classmethod decorator.\\\n",
        "        4. First Parameter:-\\\n",
        "        IM-self (represents the instance).\\\n",
        "        CM-cls (represents the class).\\\n",
        "        5. Use cases\\\n",
        "        IM-Used to perform actions specific to a particular instance.\\\n",
        "        CM-Used for operations that apply to the entire class."
      ],
      "metadata": {
        "id": "LqiJ3hZ8lHV3"
      }
    },
    {
      "cell_type": "code",
      "source": [
        "#Ex Instance method\n",
        "class Car:\n",
        "    def __init__(self, make, model, year):\n",
        "        self.make = make\n",
        "        self.model = model\n",
        "        self.year = year\n",
        "\n",
        "    def display_info(self):\n",
        "        # Instance method accessing instance attributes\n",
        "        return f\"Car Information: {self.year} {self.make} {self.model}\"\n",
        "\n",
        "car = Car(\"Toyota\", \"Camry\", 2023)\n",
        "print(car.display_info())\n",
        "\n",
        "#Ex Class method\n",
        "class Car:\n",
        "    manufacturer = \"Global Motors\"\n",
        "\n",
        "    @classmethod\n",
        "    def update_manufacturer(cls, new_manufacturer):\n",
        "        # Class method modifying a class attribute\n",
        "        cls.manufacturer = new_manufacturer\n",
        "\n",
        "print(Car.manufacturer)\n",
        "Car.update_manufacturer(\"Super Motors\")\n",
        "print(Car.manufacturer)\n",
        "\n",
        "\n"
      ],
      "metadata": {
        "colab": {
          "base_uri": "https://localhost:8080/"
        },
        "id": "QKdRnH1MlqkZ",
        "outputId": "6a4bc82a-222f-4686-8fca-59790c9057d0"
      },
      "execution_count": null,
      "outputs": [
        {
          "output_type": "stream",
          "name": "stdout",
          "text": [
            "Car Information: 2023 Toyota Camry\n",
            "Global Motors\n",
            "Super Motors\n"
          ]
        }
      ]
    },
    {
      "cell_type": "markdown",
      "source": [
        "4. How does Python implement method overloading? Give an example.\n",
        "\n",
        "Solution: **Method Overloading:**\n",
        "Two or more methods have the same name but different numbers of parameters or different types of parameters, or both. These methods are called overloaded methods and this is called method overloading.\n",
        "\n",
        "Like other languages (for example, method overloading in C++) do, python does not support method overloading by default. But there are different ways to achieve method overloading in Python. \\\n",
        "**The problem with method overloading in Python is that we may overload the methods but can only use the latest defined method.**"
      ],
      "metadata": {
        "id": "gkIbzWaYn9Es"
      }
    },
    {
      "cell_type": "code",
      "source": [
        "#Ex overloading\n",
        "# Takes two argument and print their\n",
        "# product\n",
        "\n",
        "def product(a, b):\n",
        "    p = a * b\n",
        "    print(p)\n",
        "\n",
        "# Second product method\n",
        "# Takes three argument and print their\n",
        "# product\n",
        "\n",
        "def product(a, b, c):\n",
        "    p = a * b*c\n",
        "    print(p)\n",
        "\n",
        "# Uncommenting the below line shows an error\n",
        "#product(4, 5)\n",
        "\n",
        "# This line will call the second product method\n",
        "product(4, 5, 5)\n"
      ],
      "metadata": {
        "colab": {
          "base_uri": "https://localhost:8080/"
        },
        "id": "KXcp_Y4mn3Ud",
        "outputId": "5718b736-19e2-48f5-9e96-8d13f942c2bc"
      },
      "execution_count": null,
      "outputs": [
        {
          "output_type": "stream",
          "name": "stdout",
          "text": [
            "100\n"
          ]
        }
      ]
    },
    {
      "cell_type": "markdown",
      "source": [
        "To overcome the above problem we can use different ways to achieve the method overloading.\\\n",
        "1. Using Default Arguments\n",
        "You can define default values for arguments to handle multiple cases."
      ],
      "metadata": {
        "id": "-mz6xnwA49aL"
      }
    },
    {
      "cell_type": "code",
      "source": [
        "class Calculator:\n",
        "    def add(self, a, b=0, c=0):\n",
        "        return a + b + c\n",
        "\n",
        "calc = Calculator()\n",
        "print(calc.add(5))\n",
        "print(calc.add(5, 3))\n",
        "print(calc.add(5, 3, 2))\n"
      ],
      "metadata": {
        "colab": {
          "base_uri": "https://localhost:8080/"
        },
        "id": "fLRFnSKepRK1",
        "outputId": "41c1dee6-7ce2-45e7-d466-2342b0958df5"
      },
      "execution_count": null,
      "outputs": [
        {
          "output_type": "stream",
          "name": "stdout",
          "text": [
            "5\n",
            "8\n",
            "10\n"
          ]
        }
      ]
    },
    {
      "cell_type": "markdown",
      "source": [
        "2. Using *args for Variable Number of Arguments\\\n",
        "Python's *args allows you to pass a variable number of arguments to a method.\n",
        "\n",
        "\n"
      ],
      "metadata": {
        "id": "To9mw9CS5cZ0"
      }
    },
    {
      "cell_type": "code",
      "source": [
        "class Calculator:\n",
        "    def add(self, *args):\n",
        "        return sum(args)\n",
        "\n",
        "calc = Calculator()\n",
        "print(calc.add(5))\n",
        "print(calc.add(5, 3))\n",
        "print(calc.add(5, 3, 2))\n"
      ],
      "metadata": {
        "colab": {
          "base_uri": "https://localhost:8080/"
        },
        "id": "KZO3nRvr5OsG",
        "outputId": "07b2dddf-66fe-4434-acd4-1a66a60d3ff1"
      },
      "execution_count": null,
      "outputs": [
        {
          "output_type": "stream",
          "name": "stdout",
          "text": [
            "5\n",
            "8\n",
            "10\n"
          ]
        }
      ]
    },
    {
      "cell_type": "markdown",
      "source": [
        "5. What are the three types of access modifiers in Python? How are they denoted?\n",
        "\n",
        "Solution: In Python, access modifiers are used to control the visibility and accessibility of attributes and methods within a class. Python provides three types of access modifiers: public, protected, and private. \\\n",
        "1. Public:\n",
        "Attributes and methods that are accessible from anywhere (inside and outside the class).\\\n",
        "All data members and member functions of a class are public by default. \\\n",
        "How to Declare: Simply define the attribute or method without any prefix."
      ],
      "metadata": {
        "id": "pYKqa_dv6FJJ"
      }
    },
    {
      "cell_type": "code",
      "source": [
        "class Example:\n",
        "    def __init__(self):\n",
        "        self.public_attribute = \"I am public\"\n",
        "\n",
        "    def public_method(self):\n",
        "        return \"This is a public method\"\n",
        "\n",
        "obj = Example()\n",
        "print(obj.public_attribute)\n",
        "print(obj.public_method())"
      ],
      "metadata": {
        "colab": {
          "base_uri": "https://localhost:8080/"
        },
        "id": "aPBpmMG35ok8",
        "outputId": "1989e205-1153-4967-824b-ffa7cdc73569"
      },
      "execution_count": null,
      "outputs": [
        {
          "output_type": "stream",
          "name": "stdout",
          "text": [
            "I am public\n",
            "This is a public method\n"
          ]
        }
      ]
    },
    {
      "cell_type": "markdown",
      "source": [
        "2. Protected: Attributes and methods that should only be accessed within the class and its subclasses.\\\n",
        "How to Declare: Use a single underscore _ as a prefix."
      ],
      "metadata": {
        "id": "HrOwdDTP8yyf"
      }
    },
    {
      "cell_type": "code",
      "source": [
        "class Example:\n",
        "    def __init__(self):\n",
        "        self._protected_attribute = \"I am protected\"\n",
        "\n",
        "    def _protected_method(self):\n",
        "        return \"This is a protected method\"\n",
        "\n",
        "class SubExample(Example):\n",
        "    def access_protected(self):\n",
        "        return self._protected_attribute  # Accessible in subclass\n",
        "\n",
        "obj = Example()\n",
        "print(obj._protected_attribute)  # Accessible, but not recommended\n",
        "sub_obj = SubExample()\n",
        "print(sub_obj.access_protected())\n"
      ],
      "metadata": {
        "colab": {
          "base_uri": "https://localhost:8080/"
        },
        "id": "jDJGQEO78wp4",
        "outputId": "da5feb34-46ec-4509-9513-dcedb8dd426b"
      },
      "execution_count": null,
      "outputs": [
        {
          "output_type": "stream",
          "name": "stdout",
          "text": [
            "I am protected\n",
            "I am protected\n"
          ]
        }
      ]
    },
    {
      "cell_type": "markdown",
      "source": [
        "3. Private: Attributes and methods that are not accessible outside the class directly. They are intended to be used only within the class.\\\n",
        "How to Declare: Use a double underscore __ as a prefix. Python applies name mangling to private attributes to make them harder to access from outside the class."
      ],
      "metadata": {
        "id": "N0XXtVOh9KbX"
      }
    },
    {
      "cell_type": "code",
      "source": [
        "class Example:\n",
        "    def __init__(self):\n",
        "        self.__private_attribute = \"I am private\"\n",
        "\n",
        "    def __private_method(self):\n",
        "        return \"This is a private method\"\n",
        "\n",
        "    def access_private(self):\n",
        "        return self.__private_method()  # Accessed within the class\n",
        "\n",
        "obj = Example()\n",
        "# print(obj.__private_attribute)  # Raises an AttributeError\n",
        "print(obj.access_private())        # Proper usage\n",
        "\n",
        "# Accessing private attributes (not recommended):\n",
        "print(obj._Example__private_attribute)  # Name mangling can be bypassed\n"
      ],
      "metadata": {
        "colab": {
          "base_uri": "https://localhost:8080/"
        },
        "id": "eWY5xTj49XEs",
        "outputId": "c90b4b52-3f72-4b2d-9268-45a9ab2596d2"
      },
      "execution_count": null,
      "outputs": [
        {
          "output_type": "stream",
          "name": "stdout",
          "text": [
            "This is a private method\n",
            "I am private\n"
          ]
        }
      ]
    },
    {
      "cell_type": "markdown",
      "source": [
        "6. Describe the five types of inheritance in Python. Provide a simple example of multiple inheritance.\n",
        "\n",
        "Solution:  Inheritance is a mechanism that allows a class to derive properties and behavior from another class. Python supports the following five types of inheritance:\n",
        " 1. Single Inheritance\\\n",
        "  A class inherits from one parent class.\n"
      ],
      "metadata": {
        "id": "j2MByyKP-TvG"
      }
    },
    {
      "cell_type": "code",
      "source": [
        "#Ex\n",
        "class Parent:\n",
        "    def greet(self):\n",
        "        return \"Hello from Parent\"\n",
        "\n",
        "class Child(Parent):\n",
        "    pass\n",
        "\n",
        "obj = Child()\n",
        "print(obj.greet())\n"
      ],
      "metadata": {
        "id": "otr8WdvG9gM6"
      },
      "execution_count": null,
      "outputs": []
    },
    {
      "cell_type": "markdown",
      "source": [
        "2. Multiple Inheritance\\\n",
        "A class inherits from more than one parent class."
      ],
      "metadata": {
        "id": "oSrT4EeT-_Ue"
      }
    },
    {
      "cell_type": "code",
      "source": [
        "class Parent1:\n",
        "    def greet1(self):\n",
        "        return \"Hello from Parent1\"\n",
        "\n",
        "class Parent2:\n",
        "    def greet2(self):\n",
        "        return \"Hello from Parent2\"\n",
        "\n",
        "class Child(Parent1, Parent2):\n",
        "    pass\n",
        "\n",
        "obj = Child()\n",
        "print(obj.greet1())\n",
        "print(obj.greet2())\n"
      ],
      "metadata": {
        "id": "p9s3TimY_LU0"
      },
      "execution_count": null,
      "outputs": []
    },
    {
      "cell_type": "markdown",
      "source": [
        "3. Multilevel Inheritance\\\n",
        "A class inherits from another class, which itself inherits from another class."
      ],
      "metadata": {
        "id": "u4LerVCz_OMd"
      }
    },
    {
      "cell_type": "code",
      "source": [
        "class Grandparent:\n",
        "    def greet(self):\n",
        "        return \"Hello from Grandparent\"\n",
        "\n",
        "class Parent(Grandparent):\n",
        "    pass\n",
        "\n",
        "class Child(Parent):\n",
        "    pass\n",
        "\n",
        "obj = Child()\n",
        "print(obj.greet())\n"
      ],
      "metadata": {
        "id": "VUntcYbJ_YXm"
      },
      "execution_count": null,
      "outputs": []
    },
    {
      "cell_type": "markdown",
      "source": [
        "4. Hierarchical Inheritance\\\n",
        "Multiple classes inherit from a single parent class."
      ],
      "metadata": {
        "id": "6FrnAXl1_c4e"
      }
    },
    {
      "cell_type": "code",
      "source": [
        "class Parent:\n",
        "    def greet(self):\n",
        "        return \"Hello from Parent\"\n",
        "\n",
        "class Child1(Parent):\n",
        "    pass\n",
        "\n",
        "class Child2(Parent):\n",
        "    pass\n",
        "\n",
        "obj1 = Child1()\n",
        "obj2 = Child2()\n",
        "print(obj1.greet())\n",
        "print(obj2.greet())\n"
      ],
      "metadata": {
        "id": "TkNEvOP8_j90"
      },
      "execution_count": null,
      "outputs": []
    },
    {
      "cell_type": "markdown",
      "source": [
        "5.  Hybrid Inheritance\\\n",
        "A combination of two or more types of inheritance, typically involving multiple and hierarchical inheritance."
      ],
      "metadata": {
        "id": "AscoCRxJ_mOK"
      }
    },
    {
      "cell_type": "code",
      "source": [
        "class Parent:\n",
        "    def greet(self):\n",
        "        return \"Hello from Parent\"\n",
        "\n",
        "class Child1(Parent):\n",
        "    pass\n",
        "\n",
        "class Child2(Parent):\n",
        "    pass\n",
        "\n",
        "class Grandchild(Child1, Child2):\n",
        "    pass\n",
        "\n",
        "obj = Grandchild()\n",
        "print(obj.greet())\n"
      ],
      "metadata": {
        "id": "BSY7We7S_twr"
      },
      "execution_count": null,
      "outputs": []
    },
    {
      "cell_type": "markdown",
      "source": [
        "7. What is the Method Resolution Order (MRO) in Python? How can you retrieve it programmatically?\n",
        "\n",
        "Solution: The Method Resolution Order (MRO) in Python is the order in which Python looks up methods and attributes for a class. It is particularly relevant in the context of multiple inheritance, where a class can inherit from multiple parent classes. The MRO determines which parent class is checked first when searching for a method or attribute.\n",
        "\n",
        "Key Points About MRO:\n",
        "1. Algorithm: Python uses the C3 linearization algorithm (or C3 superclass linearization) to compute the MRO. This ensures:\n",
        "\n",
        "The order is consistent and predictable.\\\n",
        "Derived classes are checked before base classes.\\\n",
        "The order respects the inheritance hierarchy.\n",
        "2. Accessing MRO:\\\n",
        " You can access the MRO programmatically using:\\\n",
        "The __mro__ attribute of a class.\\\n",
        "The built-in mro() method of a class.\n"
      ],
      "metadata": {
        "id": "gYPJ4y8KeKXy"
      }
    },
    {
      "cell_type": "code",
      "source": [
        "#Ex using __mro__\n",
        "class A:\n",
        "    pass\n",
        "\n",
        "class B(A):\n",
        "    pass\n",
        "\n",
        "class C(B, A):  # Multiple inheritance\n",
        "    pass\n",
        "\n",
        "print(C.__mro__)\n"
      ],
      "metadata": {
        "colab": {
          "base_uri": "https://localhost:8080/"
        },
        "id": "OpemEl5Ke4b6",
        "outputId": "cbb67ccb-2d13-4c6c-8f46-e80b10188bf3"
      },
      "execution_count": null,
      "outputs": [
        {
          "output_type": "stream",
          "name": "stdout",
          "text": [
            "(<class '__main__.C'>, <class '__main__.B'>, <class '__main__.A'>, <class 'object'>)\n"
          ]
        }
      ]
    },
    {
      "cell_type": "code",
      "source": [
        "#Ex using mro()\n",
        "print(C.mro())\n"
      ],
      "metadata": {
        "id": "zxNscglwe9Hu",
        "colab": {
          "base_uri": "https://localhost:8080/"
        },
        "outputId": "fae14a73-04ef-42b4-c677-1f31ae7d339e"
      },
      "execution_count": 2,
      "outputs": [
        {
          "output_type": "stream",
          "name": "stdout",
          "text": [
            "[<class '__main__.C'>, <class '__main__.B'>, <class '__main__.A'>, <class 'object'>]\n"
          ]
        }
      ]
    },
    {
      "cell_type": "markdown",
      "source": [
        "8. Create an abstract base class `Shape` with an abstract method `area()`. Then create two subclasses\n",
        "`Circle` and `Rectangle` that implement the `area()` method.\n",
        "\n",
        "\n"
      ],
      "metadata": {
        "id": "mjncT0lOqNCe"
      }
    },
    {
      "cell_type": "code",
      "source": [
        "#Solution:-\n",
        "from abc import ABC, abstractmethod\n",
        "import math\n",
        "\n",
        "# Abstract base class\n",
        "class Shape(ABC):\n",
        "    @abstractmethod\n",
        "    def area(self):\n",
        "        \"\"\"Calculate and return the area of the shape\"\"\"\n",
        "        pass\n",
        "\n",
        "# Subclass for Circle\n",
        "class Circle(Shape):\n",
        "    def __init__(self, radius):\n",
        "        self.radius = radius\n",
        "\n",
        "    def area(self):\n",
        "        return math.pi * (self.radius ** 2)\n",
        "\n",
        "# Subclass for Rectangle\n",
        "class Rectangle(Shape):\n",
        "    def __init__(self, width, height):\n",
        "        self.width = width\n",
        "        self.height = height\n",
        "\n",
        "    def area(self):\n",
        "        return self.width * self.height\n",
        "\n",
        "# Example usage\n",
        "circle = Circle(radius=5)\n",
        "print(f\"Area of the circle: {circle.area()}\")\n",
        "\n",
        "rectangle = Rectangle(width=4, height=6)\n",
        "print(f\"Area of the rectangle: {rectangle.area()}\")\n"
      ],
      "metadata": {
        "id": "MAP0dJtwfH0s",
        "colab": {
          "base_uri": "https://localhost:8080/"
        },
        "outputId": "d814554c-62d5-4483-f4b7-be5f3a6b0382"
      },
      "execution_count": 5,
      "outputs": [
        {
          "output_type": "stream",
          "name": "stdout",
          "text": [
            "Area of the circle: 78.53981633974483\n",
            "Area of the rectangle: 24\n"
          ]
        }
      ]
    },
    {
      "cell_type": "markdown",
      "source": [
        "9. Demonstrate polymorphism by creating a function that can work with different shape objects to calculate and print their areas.\n",
        "\n",
        "Solution: Here's an example demonstrating polymorphism with a function that works with different shape objects to calculate and print their areas:\n"
      ],
      "metadata": {
        "id": "y6RI9NG0rVai"
      }
    },
    {
      "cell_type": "code",
      "source": [
        "from abc import ABC, abstractmethod\n",
        "import math\n",
        "\n",
        "# Abstract base class\n",
        "class Shape(ABC):\n",
        "    @abstractmethod\n",
        "    def area(self):\n",
        "        \"\"\"Calculate and return the area of the shape\"\"\"\n",
        "        pass\n",
        "\n",
        "# Subclass for Circle\n",
        "class Circle(Shape):\n",
        "    def __init__(self, radius):\n",
        "        self.radius = radius\n",
        "\n",
        "    def area(self):\n",
        "        return math.pi * (self.radius ** 2)\n",
        "\n",
        "# Subclass for Rectangle\n",
        "class Rectangle(Shape):\n",
        "    def __init__(self, width, height):\n",
        "        self.width = width\n",
        "        self.height = height\n",
        "\n",
        "    def area(self):\n",
        "        return self.width * self.height\n",
        "\n",
        "# Subclass for Triangle\n",
        "class Triangle(Shape):\n",
        "    def __init__(self, base, height):\n",
        "        self.base = base\n",
        "        self.height = height\n",
        "\n",
        "    def area(self):\n",
        "        return 0.5 * self.base * self.height\n",
        "\n",
        "# Polymorphic function\n",
        "def print_area(shape):\n",
        "    print(f\"The area of the {type(shape).__name__} is {shape.area()}\")\n",
        "\n",
        "# Example usage\n",
        "shapes = [\n",
        "    Circle(radius=5),\n",
        "    Rectangle(width=4, height=6),\n",
        "    Triangle(base=3, height=7)\n",
        "]\n",
        "\n",
        "for shape in shapes:\n",
        "    print_area(shape)\n"
      ],
      "metadata": {
        "colab": {
          "base_uri": "https://localhost:8080/"
        },
        "id": "XF4je7gZqXB8",
        "outputId": "62823264-5a9d-4cdb-a608-cb43393a12ba"
      },
      "execution_count": 6,
      "outputs": [
        {
          "output_type": "stream",
          "name": "stdout",
          "text": [
            "The area of the Circle is 78.53981633974483\n",
            "The area of the Rectangle is 24\n",
            "The area of the Triangle is 10.5\n"
          ]
        }
      ]
    },
    {
      "cell_type": "markdown",
      "source": [
        "10. Implement encapsulation in a `BankAccount` class with private attributes for `balance` and\n",
        "`account_number`. Include methods for deposit, withdrawal, and balance inquiry.\n",
        "\n",
        "Solution: An implementation of encapsulation in a BankAccount class, where the attributes balance and account_number are private, and methods are provided for controlled access and manipulation:"
      ],
      "metadata": {
        "id": "DkiKw1ScsR7A"
      }
    },
    {
      "cell_type": "code",
      "source": [
        "class BankAccount:\n",
        "    def __init__(self, account_number, initial_balance=0):\n",
        "        self.__account_number = account_number\n",
        "        self.__balance = initial_balance\n",
        "\n",
        "    def deposit(self, amount):\n",
        "        if amount > 0:\n",
        "            self.__balance += amount\n",
        "            print(f\"Deposited Rs.{amount:.2f}. New balance: Rs.{self.__balance:.2f}\")\n",
        "        else:\n",
        "            print(\"Deposit amount must be positive.\")\n",
        "\n",
        "    def withdraw(self, amount):\n",
        "        if amount > 0:\n",
        "            if amount <= self.__balance:\n",
        "                self.__balance -= amount\n",
        "                print(f\"Withdrew Rs.{amount:.2f}. New balance: Rs.{self.__balance:.2f}\")\n",
        "            else:\n",
        "                print(\"Insufficient balance.\")\n",
        "        else:\n",
        "            print(\"Withdrawal amount must be positive.\")\n",
        "\n",
        "    def get_balance(self):\n",
        "        print(f\"Current balance: Rs.{self.__balance:.2f}\")\n",
        "        return self.__balance\n",
        "\n",
        "    def get_account_number(self):\n",
        "        print(f\"Account Number: {self.__account_number}\")\n",
        "        return self.__account_number\n",
        "# Example usage\n",
        "account = BankAccount(account_number=\"12345678\", initial_balance=1000)\n",
        "\n",
        "# Accessing the private attributes via methods\n",
        "account.get_account_number()\n",
        "account.get_balance()\n",
        "\n",
        "# Performing transactions\n",
        "account.deposit(500)\n",
        "account.withdraw(300)\n",
        "account.withdraw(1500)"
      ],
      "metadata": {
        "colab": {
          "base_uri": "https://localhost:8080/"
        },
        "id": "o0e4oc9pr1iQ",
        "outputId": "75ab7480-1dba-4c3d-cdc0-3eaeeebeb867"
      },
      "execution_count": 4,
      "outputs": [
        {
          "output_type": "stream",
          "name": "stdout",
          "text": [
            "Account Number: 12345678\n",
            "Current balance: Rs.1000.00\n",
            "Deposited Rs.500.00. New balance: Rs.1500.00\n",
            "Withdrew Rs.300.00. New balance: Rs.1200.00\n",
            "Insufficient balance.\n"
          ]
        }
      ]
    },
    {
      "cell_type": "markdown",
      "source": [
        "11. Write a class that overrides the __str__ and __add__ magic methods. What will these methods allow you to do?\n",
        "\n",
        "Solution: Implementation of a class that overrides the __str__ and __add__ magic methods:\n"
      ],
      "metadata": {
        "id": "KIdmxExq3eBg"
      }
    },
    {
      "cell_type": "code",
      "source": [
        "class Person:\n",
        "    def __init__(self, first_name, last_name):\n",
        "        self.first_name = first_name\n",
        "        self.last_name = last_name\n",
        "\n",
        "    # Override the __str__ method\n",
        "    def __str__(self):\n",
        "        return f\"{self.first_name} {self.last_name}\"\n",
        "\n",
        "    # Override the __add__ method\n",
        "    def __add__(self, other):\n",
        "        if isinstance(other, Person):\n",
        "            return f\"{self.first_name} and {other.first_name} are friends.\"\n",
        "        return \"Addition not supported for this type.\"\n",
        "\n",
        "# Example usage\n",
        "person1 = Person(\"John\", \"Doe\")\n",
        "person2 = Person(\"Jane\", \"Smith\")\n",
        "\n",
        "# Using the __str__ method\n",
        "print(person1)\n",
        "print(person2)\n",
        "\n",
        "# Using the __add__ method\n",
        "print(person1 + person2)\n"
      ],
      "metadata": {
        "colab": {
          "base_uri": "https://localhost:8080/"
        },
        "id": "-wfJiBBXBjEi",
        "outputId": "e3dc94ab-70f1-46d9-a498-4cd4a3cb8701"
      },
      "execution_count": 9,
      "outputs": [
        {
          "output_type": "stream",
          "name": "stdout",
          "text": [
            "John Doe\n",
            "Jane Smith\n",
            "John and Jane are friends.\n"
          ]
        }
      ]
    },
    {
      "cell_type": "markdown",
      "source": [
        "Explanation of Magic Methods what they allow :\n",
        "- __str__:\n",
        "\n",
        "This method is called when you use str(object) or print(object).\n",
        "It provides a human-readable string representation of the object.\n",
        "In this example, the __str__ method formats the Person object as \"FirstName LastName\".\n",
        "- __add__:\n",
        "\n",
        "This method is called when you use the + operator with instances of the class.\n",
        "It allows you to define a custom behavior for addition between objects.\n",
        "In this example, if two Person objects are added, it returns a string indicating they are friends. If the right-hand operand is not a Person, it handles it gracefully.\\\n",
        "Benefits of Overriding These Methods:\\\n",
        "__str__: Makes objects easier to interpret and debug when printed, providing a meaningful description instead of a default memory address.\\\n",
        "__add__: Extends functionality for custom operations, allowing objects to interact intuitively with operators like +, which can enhance readability and expressiveness of the code."
      ],
      "metadata": {
        "id": "Nf9QzVN6BvxC"
      }
    },
    {
      "cell_type": "markdown",
      "source": [
        "12. Create a decorator that measures and prints the execution time of a function.\n",
        "\n",
        "Solution: A decorator that measures and prints the execution time of a function:"
      ],
      "metadata": {
        "id": "GWIZsxQoCrU6"
      }
    },
    {
      "cell_type": "code",
      "source": [
        "import time\n",
        "\n",
        "def measure_execution_time(func):\n",
        "    def wrapper(*args, **kwargs):\n",
        "        start_time = time.time()\n",
        "        result = func(*args, **kwargs)\n",
        "        end_time = time.time()\n",
        "        execution_time = end_time - start_time\n",
        "        print(f\"Function '{func.__name__}' executed in {execution_time:.4f} seconds.\")\n",
        "        return result\n",
        "    return wrapper\n",
        "\n",
        "# Example usage\n",
        "@measure_execution_time\n",
        "def slow_function():\n",
        "    time.sleep(2)\n",
        "    print(\"Finished slow function.\")\n",
        "\n",
        "@measure_execution_time\n",
        "def add(a, b):\n",
        "    return a + b\n",
        "\n",
        "# Call the decorated functions\n",
        "slow_function()\n",
        "print(f\"Result of add: {add(10, 20)}\")\n"
      ],
      "metadata": {
        "colab": {
          "base_uri": "https://localhost:8080/"
        },
        "id": "aWE2QmAdBltk",
        "outputId": "d27c283d-a5c2-4a0b-d2c3-3e31ecf655de"
      },
      "execution_count": 10,
      "outputs": [
        {
          "output_type": "stream",
          "name": "stdout",
          "text": [
            "Finished slow function.\n",
            "Function 'slow_function' executed in 2.0023 seconds.\n",
            "Function 'add' executed in 0.0000 seconds.\n",
            "Result of add: 30\n"
          ]
        }
      ]
    },
    {
      "cell_type": "markdown",
      "source": [
        "13. Explain the concept of the Diamond Problem in multiple inheritance. How does Python resolve it?\n",
        "\n",
        "Solution: **The Diamond Problem in Multiple Inheritance**\\\n",
        "The diamond problem occurs in object-oriented programming when a class inherits from two classes that share a common base class. It creates ambiguity because the derived class has two inheritance paths to the same base class, potentially causing conflicts or redundant method calls.\n"
      ],
      "metadata": {
        "id": "5gj9tYACDHNo"
      }
    },
    {
      "cell_type": "code",
      "source": [
        "   #Diamond Problem\n",
        "      A\n",
        "     / \\\n",
        "    B   C\n",
        "     \\ /\n",
        "      D\n",
        "- B and C both inherit from A.\n",
        "- D inherits from both B and C.\n",
        "- If D calls a method from A, it's unclear whether it should call A through B or C"
      ],
      "metadata": {
        "id": "0CykjSDfD__b"
      },
      "execution_count": null,
      "outputs": []
    },
    {
      "cell_type": "markdown",
      "source": [
        "Key Issues:\n",
        "1. Ambiguity in Method Resolution:\n",
        "If A defines a method, and D calls it, the interpreter may not know which path to follow (via B or C).\n",
        "2. Redundant Calls:\n",
        "If the method in A is called twice (once via B and once via C), it may result in unintended behavior.\n",
        "\n",
        "How Python Resolves the Diamond Problem\\\n",
        "Python resolves the diamond problem using the C3 Linearization Algorithm, which defines the Method Resolution Order (MRO). This ensures:\n",
        "- A consistent order in which base classes are searched for methods and attributes.\n",
        "- Each class is only called once to avoid redundancy.\n",
        "\n",
        "Python's Rules for MRO:\n",
        "- Derived classes are checked before base classes.\n",
        "- Among base classes, the order in which they are declared matters.\n",
        "- It respects the inheritance hierarchy and avoids duplicate calls to a common ancestor."
      ],
      "metadata": {
        "id": "012qdCoVEHfp"
      }
    },
    {
      "cell_type": "code",
      "source": [
        "#Exmaple\n",
        "class A:\n",
        "    def show(self):\n",
        "        print(\"A's method\")\n",
        "\n",
        "class B(A):\n",
        "    def show(self):\n",
        "        print(\"B's method\")\n",
        "\n",
        "class C(A):\n",
        "    def show(self):\n",
        "        print(\"C's method\")\n",
        "\n",
        "class D(B, C):\n",
        "    pass\n",
        "\n",
        "d = D()\n",
        "d.show()\n",
        "print(D.__mro__)\n"
      ],
      "metadata": {
        "colab": {
          "base_uri": "https://localhost:8080/"
        },
        "id": "gielmSUkFciE",
        "outputId": "6a931f9c-68ee-440b-9cde-df4dc8da783a"
      },
      "execution_count": 12,
      "outputs": [
        {
          "output_type": "stream",
          "name": "stdout",
          "text": [
            "B's method\n",
            "(<class '__main__.D'>, <class '__main__.B'>, <class '__main__.C'>, <class '__main__.A'>, <class 'object'>)\n"
          ]
        }
      ]
    },
    {
      "cell_type": "markdown",
      "source": [
        "14. Write a class method that keeps track of the number of instances created from a class.\n",
        "\n",
        "Solution: We can write a class method that keeps track of the number of instances created from a class:"
      ],
      "metadata": {
        "id": "ig_qPUr2Fgp0"
      }
    },
    {
      "cell_type": "code",
      "source": [
        "class InstanceCounter:\n",
        "    instance_count = 0\n",
        "\n",
        "    def __init__(self):\n",
        "        InstanceCounter.instance_count += 1\n",
        "\n",
        "    @classmethod\n",
        "    def get_instance_count(cls):\n",
        "        \"\"\"Class method to return the number of instances created\"\"\"\n",
        "        return cls.instance_count\n",
        "\n",
        "# Example usage\n",
        "obj1 = InstanceCounter()\n",
        "obj2 = InstanceCounter()\n",
        "obj3 = InstanceCounter()\n",
        "\n",
        "print(f\"Number of instances created: {InstanceCounter.get_instance_count()}\")\n"
      ],
      "metadata": {
        "colab": {
          "base_uri": "https://localhost:8080/"
        },
        "id": "GebmbbwNFfVE",
        "outputId": "801118c6-1b2d-4579-c7a5-676e7db292f4"
      },
      "execution_count": 13,
      "outputs": [
        {
          "output_type": "stream",
          "name": "stdout",
          "text": [
            "Number of instances created: 3\n"
          ]
        }
      ]
    },
    {
      "cell_type": "markdown",
      "source": [
        "15. Implement a static method in a class that checks if a given year is a leap year.\n",
        "\n",
        "Solution: A static method in a class that checks if a given year is a leap year followed by below code:"
      ],
      "metadata": {
        "id": "bh9HQXRXL1YN"
      }
    },
    {
      "cell_type": "code",
      "source": [
        "class YearUtils:\n",
        "    @staticmethod\n",
        "    def is_leap_year(year):\n",
        "        \"\"\"Check if a year is a leap year.\"\"\"\n",
        "        if (year % 4 == 0 and year % 100 != 0) or (year % 400 == 0):\n",
        "            return True\n",
        "        return False\n",
        "\n",
        "# Example usage\n",
        "print(YearUtils.is_leap_year(2024))\n",
        "print(YearUtils.is_leap_year(2023))\n",
        "print(YearUtils.is_leap_year(2000))\n",
        "print(YearUtils.is_leap_year(1900))\n"
      ],
      "metadata": {
        "colab": {
          "base_uri": "https://localhost:8080/"
        },
        "id": "Hhz_R4IfF83l",
        "outputId": "d48f5cd8-05a2-4fdc-8c8f-4002c8851590"
      },
      "execution_count": 15,
      "outputs": [
        {
          "output_type": "stream",
          "name": "stdout",
          "text": [
            "True\n",
            "False\n",
            "True\n",
            "False\n"
          ]
        }
      ]
    },
    {
      "cell_type": "code",
      "source": [],
      "metadata": {
        "id": "NsKsfulIMQMw"
      },
      "execution_count": null,
      "outputs": []
    }
  ]
}